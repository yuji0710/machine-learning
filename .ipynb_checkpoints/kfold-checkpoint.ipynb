{
 "cells": [
  {
   "cell_type": "code",
   "execution_count": null,
   "id": "e8af5df1-31e5-440d-8b3f-b1177ab4e19b",
   "metadata": {},
   "outputs": [],
   "source": []
  }
 ],
 "metadata": {
  "kernelspec": {
   "display_name": "",
   "name": ""
  },
  "language_info": {
   "name": ""
  }
 },
 "nbformat": 4,
 "nbformat_minor": 5
}
