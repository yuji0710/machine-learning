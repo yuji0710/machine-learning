{
 "cells": [
  {
   "cell_type": "code",
   "execution_count": 8,
   "id": "718f4313-cdc6-423c-8d4c-02760b0e58ce",
   "metadata": {},
   "outputs": [
    {
     "data": {
      "text/html": [
       "<div>\n",
       "<style scoped>\n",
       "    .dataframe tbody tr th:only-of-type {\n",
       "        vertical-align: middle;\n",
       "    }\n",
       "\n",
       "    .dataframe tbody tr th {\n",
       "        vertical-align: top;\n",
       "    }\n",
       "\n",
       "    .dataframe thead th {\n",
       "        text-align: right;\n",
       "    }\n",
       "</style>\n",
       "<table border=\"1\" class=\"dataframe\">\n",
       "  <thead>\n",
       "    <tr style=\"text-align: right;\">\n",
       "      <th></th>\n",
       "      <th>Unnamed: 0</th>\n",
       "      <th>id</th>\n",
       "      <th>gender</th>\n",
       "      <th>masterCategory</th>\n",
       "      <th>subCategory</th>\n",
       "      <th>articleType</th>\n",
       "      <th>baseColour</th>\n",
       "      <th>season</th>\n",
       "      <th>year</th>\n",
       "      <th>usage</th>\n",
       "      <th>productDisplayName</th>\n",
       "      <th>filename</th>\n",
       "      <th>link</th>\n",
       "    </tr>\n",
       "  </thead>\n",
       "  <tbody>\n",
       "    <tr>\n",
       "      <th>0</th>\n",
       "      <td>0</td>\n",
       "      <td>15970</td>\n",
       "      <td>Men</td>\n",
       "      <td>Apparel</td>\n",
       "      <td>Topwear</td>\n",
       "      <td>Shirts</td>\n",
       "      <td>Navy Blue</td>\n",
       "      <td>Fall</td>\n",
       "      <td>2011.0</td>\n",
       "      <td>Casual</td>\n",
       "      <td>Turtle Check Men Navy Blue Shirt</td>\n",
       "      <td>15970.jpg</td>\n",
       "      <td>http://assets.myntassets.com/v1/images/style/p...</td>\n",
       "    </tr>\n",
       "    <tr>\n",
       "      <th>1</th>\n",
       "      <td>1</td>\n",
       "      <td>39386</td>\n",
       "      <td>Men</td>\n",
       "      <td>Apparel</td>\n",
       "      <td>Bottomwear</td>\n",
       "      <td>Jeans</td>\n",
       "      <td>Blue</td>\n",
       "      <td>Summer</td>\n",
       "      <td>2012.0</td>\n",
       "      <td>Casual</td>\n",
       "      <td>Peter England Men Party Blue Jeans</td>\n",
       "      <td>39386.jpg</td>\n",
       "      <td>http://assets.myntassets.com/v1/images/style/p...</td>\n",
       "    </tr>\n",
       "    <tr>\n",
       "      <th>2</th>\n",
       "      <td>2</td>\n",
       "      <td>59263</td>\n",
       "      <td>Women</td>\n",
       "      <td>Accessories</td>\n",
       "      <td>Watches</td>\n",
       "      <td>Watches</td>\n",
       "      <td>Silver</td>\n",
       "      <td>Winter</td>\n",
       "      <td>2016.0</td>\n",
       "      <td>Casual</td>\n",
       "      <td>Titan Women Silver Watch</td>\n",
       "      <td>59263.jpg</td>\n",
       "      <td>http://assets.myntassets.com/v1/images/style/p...</td>\n",
       "    </tr>\n",
       "    <tr>\n",
       "      <th>3</th>\n",
       "      <td>3</td>\n",
       "      <td>21379</td>\n",
       "      <td>Men</td>\n",
       "      <td>Apparel</td>\n",
       "      <td>Bottomwear</td>\n",
       "      <td>Track Pants</td>\n",
       "      <td>Black</td>\n",
       "      <td>Fall</td>\n",
       "      <td>2011.0</td>\n",
       "      <td>Casual</td>\n",
       "      <td>Manchester United Men Solid Black Track Pants</td>\n",
       "      <td>21379.jpg</td>\n",
       "      <td>http://assets.myntassets.com/v1/images/style/p...</td>\n",
       "    </tr>\n",
       "    <tr>\n",
       "      <th>4</th>\n",
       "      <td>4</td>\n",
       "      <td>53759</td>\n",
       "      <td>Men</td>\n",
       "      <td>Apparel</td>\n",
       "      <td>Topwear</td>\n",
       "      <td>Tshirts</td>\n",
       "      <td>Grey</td>\n",
       "      <td>Summer</td>\n",
       "      <td>2012.0</td>\n",
       "      <td>Casual</td>\n",
       "      <td>Puma Men Grey T-shirt</td>\n",
       "      <td>53759.jpg</td>\n",
       "      <td>http://assets.myntassets.com/v1/images/style/p...</td>\n",
       "    </tr>\n",
       "    <tr>\n",
       "      <th>...</th>\n",
       "      <td>...</td>\n",
       "      <td>...</td>\n",
       "      <td>...</td>\n",
       "      <td>...</td>\n",
       "      <td>...</td>\n",
       "      <td>...</td>\n",
       "      <td>...</td>\n",
       "      <td>...</td>\n",
       "      <td>...</td>\n",
       "      <td>...</td>\n",
       "      <td>...</td>\n",
       "      <td>...</td>\n",
       "      <td>...</td>\n",
       "    </tr>\n",
       "    <tr>\n",
       "      <th>44419</th>\n",
       "      <td>44419</td>\n",
       "      <td>17036</td>\n",
       "      <td>Men</td>\n",
       "      <td>Footwear</td>\n",
       "      <td>Shoes</td>\n",
       "      <td>Casual Shoes</td>\n",
       "      <td>White</td>\n",
       "      <td>Summer</td>\n",
       "      <td>2013.0</td>\n",
       "      <td>Casual</td>\n",
       "      <td>Gas Men Caddy Casual Shoe</td>\n",
       "      <td>17036.jpg</td>\n",
       "      <td>http://assets.myntassets.com/v1/images/style/p...</td>\n",
       "    </tr>\n",
       "    <tr>\n",
       "      <th>44420</th>\n",
       "      <td>44420</td>\n",
       "      <td>6461</td>\n",
       "      <td>Men</td>\n",
       "      <td>Footwear</td>\n",
       "      <td>Flip Flops</td>\n",
       "      <td>Flip Flops</td>\n",
       "      <td>Red</td>\n",
       "      <td>Summer</td>\n",
       "      <td>2011.0</td>\n",
       "      <td>Casual</td>\n",
       "      <td>Lotto Men's Soccer Track Flip Flop</td>\n",
       "      <td>6461.jpg</td>\n",
       "      <td>http://assets.myntassets.com/v1/images/style/p...</td>\n",
       "    </tr>\n",
       "    <tr>\n",
       "      <th>44421</th>\n",
       "      <td>44421</td>\n",
       "      <td>18842</td>\n",
       "      <td>Men</td>\n",
       "      <td>Apparel</td>\n",
       "      <td>Topwear</td>\n",
       "      <td>Tshirts</td>\n",
       "      <td>Blue</td>\n",
       "      <td>Fall</td>\n",
       "      <td>2011.0</td>\n",
       "      <td>Casual</td>\n",
       "      <td>Puma Men Graphic Stellar Blue Tshirt</td>\n",
       "      <td>18842.jpg</td>\n",
       "      <td>http://assets.myntassets.com/v1/images/style/p...</td>\n",
       "    </tr>\n",
       "    <tr>\n",
       "      <th>44422</th>\n",
       "      <td>44422</td>\n",
       "      <td>46694</td>\n",
       "      <td>Women</td>\n",
       "      <td>Personal Care</td>\n",
       "      <td>Fragrance</td>\n",
       "      <td>Perfume and Body Mist</td>\n",
       "      <td>Blue</td>\n",
       "      <td>Spring</td>\n",
       "      <td>2017.0</td>\n",
       "      <td>Casual</td>\n",
       "      <td>Rasasi Women Blue Lady Perfume</td>\n",
       "      <td>46694.jpg</td>\n",
       "      <td>http://assets.myntassets.com/v1/images/style/p...</td>\n",
       "    </tr>\n",
       "    <tr>\n",
       "      <th>44423</th>\n",
       "      <td>44423</td>\n",
       "      <td>51623</td>\n",
       "      <td>Women</td>\n",
       "      <td>Accessories</td>\n",
       "      <td>Watches</td>\n",
       "      <td>Watches</td>\n",
       "      <td>Pink</td>\n",
       "      <td>Winter</td>\n",
       "      <td>2016.0</td>\n",
       "      <td>Casual</td>\n",
       "      <td>Fossil Women Pink Dial Chronograph Watch ES3050</td>\n",
       "      <td>51623.jpg</td>\n",
       "      <td>http://assets.myntassets.com/assets/images/516...</td>\n",
       "    </tr>\n",
       "  </tbody>\n",
       "</table>\n",
       "<p>44424 rows × 13 columns</p>\n",
       "</div>"
      ],
      "text/plain": [
       "       Unnamed: 0     id gender masterCategory subCategory  \\\n",
       "0               0  15970    Men        Apparel     Topwear   \n",
       "1               1  39386    Men        Apparel  Bottomwear   \n",
       "2               2  59263  Women    Accessories     Watches   \n",
       "3               3  21379    Men        Apparel  Bottomwear   \n",
       "4               4  53759    Men        Apparel     Topwear   \n",
       "...           ...    ...    ...            ...         ...   \n",
       "44419       44419  17036    Men       Footwear       Shoes   \n",
       "44420       44420   6461    Men       Footwear  Flip Flops   \n",
       "44421       44421  18842    Men        Apparel     Topwear   \n",
       "44422       44422  46694  Women  Personal Care   Fragrance   \n",
       "44423       44423  51623  Women    Accessories     Watches   \n",
       "\n",
       "                 articleType baseColour  season    year   usage  \\\n",
       "0                     Shirts  Navy Blue    Fall  2011.0  Casual   \n",
       "1                      Jeans       Blue  Summer  2012.0  Casual   \n",
       "2                    Watches     Silver  Winter  2016.0  Casual   \n",
       "3                Track Pants      Black    Fall  2011.0  Casual   \n",
       "4                    Tshirts       Grey  Summer  2012.0  Casual   \n",
       "...                      ...        ...     ...     ...     ...   \n",
       "44419           Casual Shoes      White  Summer  2013.0  Casual   \n",
       "44420             Flip Flops        Red  Summer  2011.0  Casual   \n",
       "44421                Tshirts       Blue    Fall  2011.0  Casual   \n",
       "44422  Perfume and Body Mist       Blue  Spring  2017.0  Casual   \n",
       "44423                Watches       Pink  Winter  2016.0  Casual   \n",
       "\n",
       "                                    productDisplayName   filename  \\\n",
       "0                     Turtle Check Men Navy Blue Shirt  15970.jpg   \n",
       "1                   Peter England Men Party Blue Jeans  39386.jpg   \n",
       "2                             Titan Women Silver Watch  59263.jpg   \n",
       "3        Manchester United Men Solid Black Track Pants  21379.jpg   \n",
       "4                                Puma Men Grey T-shirt  53759.jpg   \n",
       "...                                                ...        ...   \n",
       "44419                        Gas Men Caddy Casual Shoe  17036.jpg   \n",
       "44420               Lotto Men's Soccer Track Flip Flop   6461.jpg   \n",
       "44421             Puma Men Graphic Stellar Blue Tshirt  18842.jpg   \n",
       "44422                   Rasasi Women Blue Lady Perfume  46694.jpg   \n",
       "44423  Fossil Women Pink Dial Chronograph Watch ES3050  51623.jpg   \n",
       "\n",
       "                                                    link  \n",
       "0      http://assets.myntassets.com/v1/images/style/p...  \n",
       "1      http://assets.myntassets.com/v1/images/style/p...  \n",
       "2      http://assets.myntassets.com/v1/images/style/p...  \n",
       "3      http://assets.myntassets.com/v1/images/style/p...  \n",
       "4      http://assets.myntassets.com/v1/images/style/p...  \n",
       "...                                                  ...  \n",
       "44419  http://assets.myntassets.com/v1/images/style/p...  \n",
       "44420  http://assets.myntassets.com/v1/images/style/p...  \n",
       "44421  http://assets.myntassets.com/v1/images/style/p...  \n",
       "44422  http://assets.myntassets.com/v1/images/style/p...  \n",
       "44423  http://assets.myntassets.com/assets/images/516...  \n",
       "\n",
       "[44424 rows x 13 columns]"
      ]
     },
     "execution_count": 8,
     "metadata": {},
     "output_type": "execute_result"
    }
   ],
   "source": [
    "import pandas as pd\n",
    "import numpy as np\n",
    "df=pd.read_csv('all.csv')\n",
    "df"
   ]
  },
  {
   "cell_type": "code",
   "execution_count": 4,
   "id": "86e6cb0f-a44a-40bf-8d66-a4adc34db56c",
   "metadata": {},
   "outputs": [
    {
     "data": {
      "text/plain": [
       "gender\n",
       "Men       22147\n",
       "Women     18631\n",
       "Unisex     2161\n",
       "Boys        830\n",
       "Girls       655\n",
       "Name: count, dtype: int64"
      ]
     },
     "execution_count": 4,
     "metadata": {},
     "output_type": "execute_result"
    }
   ],
   "source": [
    "df['gender'].value_counts()"
   ]
  },
  {
   "cell_type": "code",
   "execution_count": 5,
   "id": "25ebb5dc-3dfe-4f2a-8a57-210ab94a8812",
   "metadata": {},
   "outputs": [
    {
     "data": {
      "text/plain": [
       "articleType\n",
       "Tshirts                7067\n",
       "Shirts                 3217\n",
       "Casual Shoes           2845\n",
       "Watches                2542\n",
       "Sports Shoes           2036\n",
       "                       ... \n",
       "Cushion Covers            1\n",
       "Mens Grooming Kit         1\n",
       "Body Wash and Scrub       1\n",
       "Suits                     1\n",
       "Ipad                      1\n",
       "Name: count, Length: 143, dtype: int64"
      ]
     },
     "execution_count": 5,
     "metadata": {},
     "output_type": "execute_result"
    }
   ],
   "source": [
    "df['articleType'].value_counts()\n"
   ]
  },
  {
   "cell_type": "code",
   "execution_count": 46,
   "id": "170d05cc",
   "metadata": {},
   "outputs": [
    {
     "data": {
      "text/plain": [
       "Unnamed: 0              0\n",
       "id                      0\n",
       "gender                  0\n",
       "masterCategory          0\n",
       "subCategory             0\n",
       "articleType             0\n",
       "baseColour             15\n",
       "season                 21\n",
       "year                    1\n",
       "usage                 317\n",
       "productDisplayName      0\n",
       "filename                0\n",
       "link                    0\n",
       "dtype: int64"
      ]
     },
     "execution_count": 46,
     "metadata": {},
     "output_type": "execute_result"
    }
   ],
   "source": [
    "df.isnull().sum()\n"
   ]
  },
  {
   "cell_type": "code",
   "execution_count": null,
   "id": "046aed26",
   "metadata": {},
   "outputs": [
    {
     "data": {
      "text/plain": [
       "Unnamed: 0            44424\n",
       "id                    44424\n",
       "gender                    5\n",
       "masterCategory            7\n",
       "subCategory              45\n",
       "articleType             143\n",
       "baseColour               46\n",
       "season                    4\n",
       "year                     13\n",
       "usage                     8\n",
       "productDisplayName    31128\n",
       "filename              44424\n",
       "link                  44418\n",
       "dtype: int64"
      ]
     },
     "execution_count": 60,
     "metadata": {},
     "output_type": "execute_result"
    }
   ],
   "source": [
    "df.nunique()\n"
   ]
  },
  {
   "cell_type": "code",
   "execution_count": 2,
   "id": "09319131",
   "metadata": {},
   "outputs": [
    {
     "ename": "NameError",
     "evalue": "name 'df' is not defined",
     "output_type": "error",
     "traceback": [
      "\u001b[1;31m---------------------------------------------------------------------------\u001b[0m",
      "\u001b[1;31mNameError\u001b[0m                                 Traceback (most recent call last)",
      "Cell \u001b[1;32mIn[2], line 1\u001b[0m\n\u001b[1;32m----> 1\u001b[0m \u001b[43mdf\u001b[49m[(df[\u001b[38;5;124m'\u001b[39m\u001b[38;5;124mgender\u001b[39m\u001b[38;5;124m'\u001b[39m] \u001b[38;5;241m==\u001b[39m \u001b[38;5;124m'\u001b[39m\u001b[38;5;124mMen\u001b[39m\u001b[38;5;124m'\u001b[39m) \u001b[38;5;241m&\u001b[39m (df[\u001b[38;5;124m'\u001b[39m\u001b[38;5;124marticleType\u001b[39m\u001b[38;5;124m'\u001b[39m] \u001b[38;5;241m==\u001b[39m \u001b[38;5;124m'\u001b[39m\u001b[38;5;124mShirts\u001b[39m\u001b[38;5;124m'\u001b[39m)]\u001b[38;5;241m.\u001b[39mshape[\u001b[38;5;241m0\u001b[39m]\n",
      "\u001b[1;31mNameError\u001b[0m: name 'df' is not defined"
     ]
    }
   ],
   "source": [
    "df[(df['gender'] == 'Men') & (df['articleType'] == 'Shirts')].shape[0]"
   ]
  },
  {
   "cell_type": "code",
   "execution_count": null,
   "id": "a9ed9e6d",
   "metadata": {},
   "outputs": [
    {
     "data": {
      "text/plain": [
       "subCategory\n",
       "Topwear                     15402\n",
       "Shoes                        7343\n",
       "Bags                         3055\n",
       "Bottomwear                   2694\n",
       "Watches                      2542\n",
       "Innerwear                    1808\n",
       "Jewellery                    1079\n",
       "Eyewear                      1073\n",
       "Fragrance                    1011\n",
       "Sandal                        963\n",
       "Wallets                       933\n",
       "Flip Flops                    913\n",
       "Belts                         811\n",
       "Socks                         698\n",
       "Lips                          527\n",
       "Dress                         478\n",
       "Loungewear and Nightwear      470\n",
       "Saree                         427\n",
       "Nails                         329\n",
       "Makeup                        307\n",
       "Headwear                      293\n",
       "Ties                          258\n",
       "Accessories                   129\n",
       "Scarves                       118\n",
       "Cufflinks                     108\n",
       "Apparel Set                   106\n",
       "Free Gifts                    104\n",
       "Stoles                         90\n",
       "Skin Care                      77\n",
       "Skin                           69\n",
       "Eyes                           43\n",
       "Mufflers                       38\n",
       "Shoe Accessories               24\n",
       "Sports Equipment               21\n",
       "Gloves                         20\n",
       "Hair                           19\n",
       "Bath and Body                  12\n",
       "Water Bottle                    7\n",
       "Perfumes                        6\n",
       "Umbrellas                       6\n",
       "Beauty Accessories              4\n",
       "Wristbands                      4\n",
       "Sports Accessories              3\n",
       "Home Furnishing                 1\n",
       "Vouchers                        1\n",
       "Name: count, dtype: int64"
      ]
     },
     "execution_count": 64,
     "metadata": {},
     "output_type": "execute_result"
    }
   ],
   "source": [
    "df.subCategory.value_counts()"
   ]
  },
  {
   "cell_type": "code",
   "execution_count": 65,
   "id": "7b9ffcc2",
   "metadata": {},
   "outputs": [
    {
     "data": {
      "text/plain": [
       "articleType\n",
       "Tshirts                7067\n",
       "Shirts                 3217\n",
       "Casual Shoes           2845\n",
       "Watches                2542\n",
       "Sports Shoes           2036\n",
       "                       ... \n",
       "Cushion Covers            1\n",
       "Mens Grooming Kit         1\n",
       "Body Wash and Scrub       1\n",
       "Suits                     1\n",
       "Ipad                      1\n",
       "Name: count, Length: 143, dtype: int64"
      ]
     },
     "execution_count": 65,
     "metadata": {},
     "output_type": "execute_result"
    }
   ],
   "source": [
    "df.articleType.value_counts()"
   ]
  },
  {
   "cell_type": "code",
   "execution_count": 71,
   "id": "b135924f",
   "metadata": {},
   "outputs": [
    {
     "data": {
      "text/plain": [
       "Unnamed: 0              0\n",
       "id                      0\n",
       "gender                  0\n",
       "masterCategory          0\n",
       "subCategory             0\n",
       "articleType             0\n",
       "baseColour             15\n",
       "season                 21\n",
       "year                    1\n",
       "usage                 317\n",
       "productDisplayName      0\n",
       "filename                0\n",
       "link                    0\n",
       "dtype: int64"
      ]
     },
     "execution_count": 71,
     "metadata": {},
     "output_type": "execute_result"
    }
   ],
   "source": [
    "df.isnull().sum()"
   ]
  },
  {
   "cell_type": "code",
   "execution_count": 79,
   "id": "e1c41726",
   "metadata": {},
   "outputs": [
    {
     "data": {
      "text/plain": [
       "season\n",
       "Summer    21472\n",
       "Fall      11431\n",
       "Winter     8517\n",
       "Spring     2983\n",
       "Name: count, dtype: int64"
      ]
     },
     "execution_count": 79,
     "metadata": {},
     "output_type": "execute_result"
    }
   ],
   "source": [
    "df['season'].value_counts()"
   ]
  },
  {
   "cell_type": "code",
   "execution_count": 99,
   "id": "8fe6b6ca",
   "metadata": {},
   "outputs": [],
   "source": [
    "adf=df[df['season'].isnull()]"
   ]
  },
  {
   "cell_type": "code",
   "execution_count": 100,
   "id": "1b8bd96f",
   "metadata": {},
   "outputs": [
    {
     "name": "stderr",
     "output_type": "stream",
     "text": [
      "C:\\Users\\hmodi\\AppData\\Local\\Temp\\ipykernel_15776\\1310710007.py:1: FutureWarning: A value is trying to be set on a copy of a DataFrame or Series through chained assignment using an inplace method.\n",
      "The behavior will change in pandas 3.0. This inplace method will never work because the intermediate object on which we are setting values always behaves as a copy.\n",
      "\n",
      "For example, when doing 'df[col].method(value, inplace=True)', try using 'df.method({col: value}, inplace=True)' or df[col] = df[col].method(value) instead, to perform the operation inplace on the original object.\n",
      "\n",
      "\n",
      "  adf['season'].fillna('all',inplace=True)\n",
      "C:\\Users\\hmodi\\AppData\\Local\\Temp\\ipykernel_15776\\1310710007.py:1: SettingWithCopyWarning: \n",
      "A value is trying to be set on a copy of a slice from a DataFrame\n",
      "\n",
      "See the caveats in the documentation: https://pandas.pydata.org/pandas-docs/stable/user_guide/indexing.html#returning-a-view-versus-a-copy\n",
      "  adf['season'].fillna('all',inplace=True)\n"
     ]
    },
    {
     "data": {
      "text/plain": [
       "282      http://assets.myntassets.com/v1/images/style/p...\n",
       "5997     http://assets.myntassets.com/v1/images/style/p...\n",
       "6510     http://assets.myntassets.com/v1/images/style/p...\n",
       "12658    http://assets.myntassets.com/v1/images/style/p...\n",
       "12994    http://assets.myntassets.com/v1/images/style/p...\n",
       "13523    http://assets.myntassets.com/v1/images/style/p...\n",
       "16042    http://assets.myntassets.com/v1/images/style/p...\n",
       "21272    http://assets.myntassets.com/assets/images/537...\n",
       "23835    http://assets.myntassets.com/v1/images/style/p...\n",
       "24198    http://assets.myntassets.com/v1/images/style/p...\n",
       "27725    http://assets.myntassets.com/v1/images/style/p...\n",
       "30113    http://assets.myntassets.com/v1/images/style/p...\n",
       "30445    http://assets.myntassets.com/v1/images/style/p...\n",
       "32246    http://assets.myntassets.com/v1/images/style/p...\n",
       "32615    http://assets.myntassets.com/v1/images/style/p...\n",
       "33691    http://assets.myntassets.com/v1/images/style/p...\n",
       "33852    http://assets.myntassets.com/v1/images/style/p...\n",
       "34357    http://assets.myntassets.com/v1/images/style/p...\n",
       "34519    http://assets.myntassets.com/v1/images/style/p...\n",
       "36121    http://assets.myntassets.com/v1/images/style/p...\n",
       "36874    http://assets.myntassets.com/v1/images/style/p...\n",
       "Name: link, dtype: object"
      ]
     },
     "execution_count": 100,
     "metadata": {},
     "output_type": "execute_result"
    }
   ],
   "source": [
    "adf['season'].fillna('all',inplace=True)\n",
    "adf['link']\n",
    "\n"
   ]
  },
  {
   "cell_type": "code",
   "execution_count": 90,
   "id": "a321dd97",
   "metadata": {},
   "outputs": [],
   "source": [
    "df['price'] = np.random.uniform(100, 1000, size=len(df))"
   ]
  },
  {
   "cell_type": "code",
   "execution_count": null,
   "id": "ea5abb42",
   "metadata": {},
   "outputs": [],
   "source": [
    "\n"
   ]
  },
  {
   "cell_type": "code",
   "execution_count": null,
   "id": "9174f3e8",
   "metadata": {},
   "outputs": [],
   "source": []
  }
 ],
 "metadata": {
  "kernelspec": {
   "display_name": "Python 3",
   "language": "python",
   "name": "python3"
  },
  "language_info": {
   "codemirror_mode": {
    "name": "ipython",
    "version": 3
   },
   "file_extension": ".py",
   "mimetype": "text/x-python",
   "name": "python",
   "nbconvert_exporter": "python",
   "pygments_lexer": "ipython3",
   "version": "3.10.9"
  }
 },
 "nbformat": 4,
 "nbformat_minor": 5
}
